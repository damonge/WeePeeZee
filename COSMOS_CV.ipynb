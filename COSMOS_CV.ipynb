{
 "cells": [
  {
   "cell_type": "code",
   "execution_count": 1,
   "metadata": {},
   "outputs": [],
   "source": [
    "import numpy as np\n",
    "import pyccl as ccl\n",
    "import matplotlib.pyplot as plt\n",
    "from astropy.io import fits\n",
    "from scipy.special import jv\n",
    "from scipy.integrate import simps"
   ]
  },
  {
   "cell_type": "markdown",
   "metadata": {},
   "source": [
    "Binning"
   ]
  },
  {
   "cell_type": "code",
   "execution_count": 2,
   "metadata": {},
   "outputs": [],
   "source": [
    "# Transverse k bins\n",
    "n_kt=512\n",
    "# Parallel k bins\n",
    "n_kp=512\n",
    "# Radial bins\n",
    "n_chi=50"
   ]
  },
  {
   "cell_type": "markdown",
   "metadata": {},
   "source": [
    "Initialize cosmology"
   ]
  },
  {
   "cell_type": "code",
   "execution_count": 3,
   "metadata": {},
   "outputs": [
    {
     "name": "stdout",
     "output_type": "stream",
     "text": [
      "0.8102000000000003\n"
     ]
    }
   ],
   "source": [
    "cosmo=ccl.Cosmology(Omega_c=0.26066676,\n",
    "                    Omega_b=0.048974682,\n",
    "                    h=0.6766,\n",
    "                    sigma8=0.8102,\n",
    "                    n_s=0.9665,\n",
    "                    mass_function='tinker')\n",
    "print(ccl.sigma8(cosmo))"
   ]
  },
  {
   "cell_type": "markdown",
   "metadata": {},
   "source": [
    "Read weighted COSMOS data.\n",
    "Define function to estimate redshift distribution"
   ]
  },
  {
   "cell_type": "code",
   "execution_count": 4,
   "metadata": {},
   "outputs": [],
   "source": [
    "cat=fits.open(\"data/cosmos_weights.fits\")[1].data\n",
    "\n",
    "def get_nz_from_photoz_bins(zp_code,zp_ini,zp_end,zt_edges,zt_nbins):\n",
    "    # Select galaxies in photo-z bin                                                                     \n",
    "    sel=(cat[zp_code]<=zp_end) & (cat[zp_code]>zp_ini)\n",
    "\n",
    "    # Effective number of galaxies                                                                       \n",
    "    ngal=len(cat) * np.sum(cat['weight'][sel])/np.sum(cat['weight'])\n",
    "\n",
    "    # Make a normalized histogram                                                                        \n",
    "    pz,z_bins=np.histogram(cat['PHOTOZ'][sel],          # 30-band photo-zs                               \n",
    "                           bins=zt_nbins,               # Number of bins                                 \n",
    "                           range=zt_edges,              # Range in z_true                                \n",
    "                           weights=cat['weight'][sel],  # Color-space weights                            \n",
    "                           density=True)\n",
    "    nz=ngal*pz\n",
    "    return nz, z_bins, ngal\n"
   ]
  },
  {
   "cell_type": "markdown",
   "metadata": {},
   "source": [
    "Get $N(z)$ for $0.5<z_{\\rm photo}<0.75$."
   ]
  },
  {
   "cell_type": "code",
   "execution_count": 5,
   "metadata": {},
   "outputs": [],
   "source": [
    "# dN/dz, z-bin edges, total number of galaxies\n",
    "z0 = 0.5\n",
    "zf = 0.75\n",
    "a_fit = 0.63\n",
    "b_fit = 0.095\n",
    "c_fit = 2.7\n",
    "dndz,zb,ngals=get_nz_from_photoz_bins(zp_code='pz_best_eab',\n",
    "                                      zp_ini=z0,\n",
    "                                      zp_end=zf,\n",
    "                                      zt_edges=(0,2.),\n",
    "                                      zt_nbins=n_chi)"
   ]
  },
  {
   "cell_type": "markdown",
   "metadata": {},
   "source": [
    "Area (1.7 deg$^2$.) and disc radius "
   ]
  },
  {
   "cell_type": "code",
   "execution_count": 6,
   "metadata": {},
   "outputs": [],
   "source": [
    "area_deg2=1.7\n",
    "area_rad2=area_deg2*(np.pi/180)**2\n",
    "theta_rad=np.sqrt(area_rad2/np.pi)"
   ]
  },
  {
   "cell_type": "markdown",
   "metadata": {},
   "source": [
    "$z$-dependent arrays"
   ]
  },
  {
   "cell_type": "code",
   "execution_count": 7,
   "metadata": {},
   "outputs": [
    {
     "data": {
      "text/plain": [
       "[<matplotlib.lines.Line2D at 0x7f37a5f96f60>]"
      ]
     },
     "execution_count": 7,
     "metadata": {},
     "output_type": "execute_result"
    },
    {
     "data": {
      "image/png": "[encoded data removed]",
      "text/plain": [
       "<Figure size 432x288 with 1 Axes>"
      ]
     },
     "metadata": {},
     "output_type": "display_data"
    }
   ],
   "source": [
    "# Bin centers\n",
    "zm=0.5*(zb[1:]+zb[:-1])\n",
    "# Bin widths\n",
    "dz=zb[1:]-zb[:-1]\n",
    "# Number of galaxies in each bin\n",
    "dn_noisy=dndz*dz\n",
    "# Smooth fit to it\n",
    "dn=np.amax(dn_noisy)*1./(1+(np.fabs(zm-a_fit)/b_fit)**c_fit)\n",
    "# Comoving distance to bin edges\n",
    "chis=ccl.comoving_radial_distance(cosmo,1./(1+zb))\n",
    "# Mean comoving distance in each bin\n",
    "chi_m=0.5*(chis[1:]+chis[:-1])\n",
    "# Comoving distance width\n",
    "dchi=chis[1:]-chis[:-1]\n",
    "# Disc radii\n",
    "R_m=theta_rad*chi_m\n",
    "# Galaxy bias\n",
    "b_m=0.95/ccl.growth_factor(cosmo,1./(1+zm))\n",
    "# Growth rate (for RSDs)\n",
    "f_m=ccl.growth_rate(cosmo,1./(1+zm))\n",
    "\n",
    "plt.plot(zm,dn_noisy,'k-')\n",
    "plt.plot(zm,dn,'b-')"
   ]
  },
  {
   "cell_type": "markdown",
   "metadata": {},
   "source": [
    "${\\bf k}$-dependent arrays"
   ]
  },
  {
   "cell_type": "code",
   "execution_count": 8,
   "metadata": {},
   "outputs": [],
   "source": [
    "# Transverse modes\n",
    "kt_arr=np.geomspace(0.00005,10.,n_kt)\n",
    "# Parallel modes\n",
    "kp_arr=np.geomspace(0.00005,10.,n_kp)\n",
    "# Total wavenumber\n",
    "k_arr=np.sqrt(kt_arr[None,:]**2+kp_arr[:,None]**2)"
   ]
  },
  {
   "cell_type": "markdown",
   "metadata": {},
   "source": [
    "Array of power spectra at each bin centre and for all transverse and parallel modes.\n",
    "\n",
    "We model it using the Kaiser formula:\n",
    "$P_{gg}({\\bf k})=\\left(b_g+f\\frac{k_\\parallel^2}{k^2}\\right)^2\\,P_{mm}(k)$"
   ]
  },
  {
   "cell_type": "code",
   "execution_count": 9,
   "metadata": {},
   "outputs": [],
   "source": [
    "pk_arr=np.array([(b+f*kp_arr[:,None]**2/k_arr**2)**2*\n",
    "                 ccl.nonlin_matter_power(cosmo,k_arr.flatten(),a).reshape([n_kp,\n",
    "                                                                           n_kt])\n",
    "                 for a,b,f in zip(1./(1+zm),b_m,f_m)])"
   ]
  },
  {
   "cell_type": "markdown",
   "metadata": {},
   "source": [
    "Window function for each bin in the COSMOS disc. The window function is:\n",
    "    \n",
    "$W(k_\\parallel,k_\\perp)=j_0(k_\\parallel\\Delta\\chi/2)\\,\\frac{2 J_1(k_\\perp R)}{k_\\perp R}$"
   ]
  },
  {
   "cell_type": "code",
   "execution_count": 10,
   "metadata": {},
   "outputs": [],
   "source": [
    "window=np.array([2*jv(1,kt_arr[None,:]*R)/(kt_arr[None,:]*R)*np.sin(0.5*kp_arr[:,None]*dc)/(0.5*kp_arr[:,None]*dc)\n",
    "                 for R,dc in zip(R_m,dchi)])\n"
   ]
  },
  {
   "cell_type": "markdown",
   "metadata": {},
   "source": [
    "The covariance matrix between two bins is given by:\n",
    "\n",
    "${\\rm Cov}_{ij}=\\frac{N_i N_j}{2\\pi^2} \\int_0^\\infty dk_\\parallel \\cos(k_\\parallel(\\chi_i-\\chi_j))\\int_0^\\infty dk_\\perp k_\\perp W_i(k_\\parallel,k_\\perp)W_j(k_\\parallel,k_\\perp)P_{\\bf gg}({\\bf k})$"
   ]
  },
  {
   "cell_type": "code",
   "execution_count": 11,
   "metadata": {},
   "outputs": [],
   "source": [
    "def covar(i,j):\n",
    "    # Windows\n",
    "    win_i=window[i]\n",
    "    win_j=window[j]\n",
    "    # Power spectrum\n",
    "    pk_ij=np.sqrt(pk_arr[i]*pk_arr[j])\n",
    "    # Cosine term\n",
    "    dchi_ij=chi_m[i]-chi_m[j]\n",
    "    cos_ij=np.cos(kp_arr*dchi_ij)\n",
    "    # First integrand\n",
    "    integrand_pt=(kt_arr[None,:]**2*win_i*win_j*pk_ij)/(2*np.pi**2)\n",
    "    # Integrate over k_transverse\n",
    "    integrand_p=simps(integrand_pt,axis=1,x=np.log(kt_arr))*cos_ij*kp_arr\n",
    "    # Integrate over k_parallel\n",
    "    integral=simps(integrand_p,x=np.log(kp_arr))\n",
    "    return integral"
   ]
  },
  {
   "cell_type": "markdown",
   "metadata": {},
   "source": [
    "Compute all covariance matrix elements"
   ]
  },
  {
   "cell_type": "code",
   "execution_count": 12,
   "metadata": {},
   "outputs": [],
   "source": [
    "# Cosmic variance term\n",
    "covmat_cv = np.array([[(ni+1)*(nj+1)*covar(i,j) \n",
    "                       for i,ni in enumerate(dn)]\n",
    "                      for j,nj in enumerate(dn)])\n",
    "# Shot noise term\n",
    "covmat_sn = np.diag(dn+1)\n",
    "# Total\n",
    "covmat_tt = covmat_cv + covmat_sn"
   ]
  },
  {
   "cell_type": "code",
   "execution_count": 13,
   "metadata": {},
   "outputs": [
    {
     "data": {
      "image/png": "[encoded data removed]",
      "text/plain": [
       "<Figure size 432x288 with 2 Axes>"
      ]
     },
     "metadata": {},
     "output_type": "display_data"
    },
    {
     "data": {
      "image/png": "[encoded data removed]",
      "text/plain": [
       "<Figure size 432x288 with 2 Axes>"
      ]
     },
     "metadata": {},
     "output_type": "display_data"
    },
    {
     "data": {
      "image/png": "[encoded data removed]",
      "text/plain": [
       "<Figure size 432x288 with 2 Axes>"
      ]
     },
     "metadata": {},
     "output_type": "display_data"
    }
   ],
   "source": [
    "def plot_corrmat(covmat):\n",
    "    plt.figure()\n",
    "    plt.imshow(covmat/np.sqrt(np.diag(covmat)[None,:]*np.diag(covmat)[:,None])-np.diag(np.ones(n_chi)),interpolation='nearest')\n",
    "    plt.colorbar()\n",
    "\n",
    "plot_corrmat(covmat_cv)\n",
    "plot_corrmat(covmat_sn)\n",
    "plot_corrmat(covmat_tt)"
   ]
  },
  {
   "cell_type": "markdown",
   "metadata": {},
   "source": [
    "Around the center of the bin, the uncertainties are around 20-30%"
   ]
  },
  {
   "cell_type": "code",
   "execution_count": 14,
   "metadata": {},
   "outputs": [
    {
     "name": "stdout",
     "output_type": "stream",
     "text": [
      "0.28688630238698926\n",
      "0.287031595688175\n",
      "0.02251012130510052\n",
      "0.2879129078114948\n"
     ]
    }
   ],
   "source": [
    "ibin=13\n",
    "print(np.sqrt(covar(ibin,ibin)))\n",
    "print(np.sqrt(covmat_cv[ibin,ibin])/dn[ibin])\n",
    "print(np.sqrt(covmat_sn[ibin,ibin])/dn[ibin])\n",
    "print(np.sqrt(covmat_tt[ibin,ibin])/dn[ibin])\n"
   ]
  },
  {
   "cell_type": "code",
   "execution_count": 15,
   "metadata": {},
   "outputs": [
    {
     "data": {
      "text/plain": [
       "<ErrorbarContainer object of 3 artists>"
      ]
     },
     "execution_count": 15,
     "metadata": {},
     "output_type": "execute_result"
    },
    {
     "data": {
      "image/png": "[encoded data removed]",
      "text/plain": [
       "<Figure size 432x288 with 1 Axes>"
      ]
     },
     "metadata": {},
     "output_type": "display_data"
    }
   ],
   "source": [
    "plt.plot(zm,dn,'k-')\n",
    "plt.errorbar(zm,dn,\n",
    "             yerr=np.sqrt(np.diag(covmat_tt)),\n",
    "             fmt='r.')\n",
    "#plt.plot(zm,dn,'b-')"
   ]
  },
  {
   "cell_type": "markdown",
   "metadata": {},
   "source": [
    "Now we compute the posterior distribution for a redshift shift parameter $\\delta z$. To do this, we brute-force evaluate the likelihood:\n",
    "\n",
    "$p(\\delta z)\\propto\\exp\\left\\{-\\sum_{ij}[N(z_i)-N(z_i+\\delta z)]\\,{\\rm Cov}^{-1}_{ij}[N(z_j)-N(z_j+\\delta z)]\\right\\}$"
   ]
  },
  {
   "cell_type": "code",
   "execution_count": 16,
   "metadata": {},
   "outputs": [],
   "source": [
    "from scipy.interpolate import interp1d\n",
    "\n",
    "dn_f=interp1d(zm,dn,bounds_error=False,fill_value=0)\n",
    "icov = np.linalg.inv(covmat_tt)\n",
    "\n",
    "def dn_shifted(dz_shift):\n",
    "    return dn_f(zm+dz_shift)\n",
    "\n",
    "def p_shift(dz_shift):\n",
    "    res=dn-dn_shifted(dz_shift)\n",
    "    #chi2=np.sum(res**2/np.diag(covmat_tt))\n",
    "    chi2=np.einsum('i,ij,j',res,icov,res)\n",
    "    return np.exp(-0.5*chi2)"
   ]
  },
  {
   "cell_type": "code",
   "execution_count": 17,
   "metadata": {},
   "outputs": [
    {
     "name": "stdout",
     "output_type": "stream",
     "text": [
      "0.005109989344979479\n"
     ]
    },
    {
     "data": {
      "image/png": "[encoded data removed]",
      "text/plain": [
       "<Figure size 432x288 with 1 Axes>"
      ]
     },
     "metadata": {},
     "output_type": "display_data"
    }
   ],
   "source": [
    "dz_shift_arr=np.linspace(-0.03,0.03,512)\n",
    "p_dz_shift_arr=np.array([p_shift(-np.fabs(dzz)) for dzz in dz_shift_arr])\n",
    "norm=np.sum(p_dz_shift_arr)\n",
    "p_dz_shift_arr/=norm\n",
    "print(np.sqrt(np.sum(p_dz_shift_arr*dz_shift_arr**2)))\n",
    "plt.plot(dz_shift_arr,p_dz_shift_arr)\n",
    "plt.xlabel('$\\delta z$',fontsize=14)\n",
    "plt.ylabel('$p(\\delta z)$',fontsize=14)\n",
    "plt.show()"
   ]
  },
  {
   "cell_type": "markdown",
   "metadata": {},
   "source": [
    "Get from samples of $N(z)$"
   ]
  },
  {
   "cell_type": "code",
   "execution_count": 18,
   "metadata": {},
   "outputs": [],
   "source": [
    "nsamples = 10000\n",
    "dn_samples = np.random.multivariate_normal(dn, covmat_tt, size=nsamples)\n",
    "z_mean = np.sum(dn_samples[:,:]*zm[None, :], axis=1)/np.sum(dn_samples, axis=1)\n",
    "z_std = np.sqrt(np.sum(dn_samples[:,:]*(zm[None, :] - z_mean[:, None])**2, axis=1)/np.sum(dn_samples, axis=1))"
   ]
  },
  {
   "cell_type": "code",
   "execution_count": 19,
   "metadata": {
    "scrolled": true
   },
   "outputs": [
    {
     "data": {
      "image/png": "[encoded data removed]",
      "text/plain": [
       "<Figure size 432x288 with 1 Axes>"
      ]
     },
     "metadata": {},
     "output_type": "display_data"
    }
   ],
   "source": [
    "plt.figure()\n",
    "plt.hist(z_mean-np.mean(z_mean), bins=100);\n",
    "plt.xlabel(r'$z_{\\rm shift}$')\n",
    "plt.title(r'$\\sigma(z_{\\rm shift})=%.4lf$' % (np.std(z_mean)));"
   ]
  },
  {
   "cell_type": "code",
   "execution_count": 20,
   "metadata": {},
   "outputs": [
    {
     "data": {
      "image/png": "[encoded data removed]",
      "text/plain": [
       "<Figure size 432x288 with 1 Axes>"
      ]
     },
     "metadata": {},
     "output_type": "display_data"
    }
   ],
   "source": [
    "plt.figure()\n",
    "plt.hist(z_std/np.mean(z_std), bins=100);\n",
    "plt.xlabel(r'$w_z$')\n",
    "plt.title(r'$\\sigma(w_z)=%.3lf$' % (np.std(z_std)/np.mean(z_std)));"
   ]
  },
  {
   "cell_type": "markdown",
   "metadata": {},
   "source": [
    "Summary of results (z0, zf, a, b, z, sigma(shift), sigma(width)):\n",
    "- 0.15, 0.5, 0.38, 0.12, 3.5, 0.008, 0.05\n",
    "- 0.5, 0.75, 0.63, 0.095, 2.7, 0.006, 0.045\n",
    "- 0.75, 1.0, 0.88, 0.12, 3.5, 0.006, 0.04\n",
    "- 1.0,  1.5, 1.20, 0.18, 3.0, 0.007, 0.03"
   ]
  },
  {
   "cell_type": "code",
   "execution_count": null,
   "metadata": {},
   "outputs": [],
   "source": []
  }
 ],
 "metadata": {
  "kernelspec": {
   "display_name": "Python 3",
   "language": "python",
   "name": "python3"
  },
  "language_info": {
   "codemirror_mode": {
    "name": "ipython",
    "version": 3
   },
   "file_extension": ".py",
   "mimetype": "text/x-python",
   "name": "python",
   "nbconvert_exporter": "python",
   "pygments_lexer": "ipython3",
   "version": "3.6.8"
  }
 },
 "nbformat": 4,
 "nbformat_minor": 2
}
